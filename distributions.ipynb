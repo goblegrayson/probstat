{
 "cells": [
  {
   "metadata": {
    "ExecuteTime": {
     "end_time": "2025-02-09T21:35:29.222218Z",
     "start_time": "2025-02-09T21:35:28.259683Z"
    }
   },
   "cell_type": "code",
   "source": [
    "import numpy as np\n",
    "from scipy.special import comb\n",
    "from fractions import Fraction"
   ],
   "id": "bda02d9033f32699",
   "outputs": [],
   "execution_count": 29
  },
  {
   "metadata": {},
   "cell_type": "markdown",
   "source": "# Variance of DRV",
   "id": "221cd6d3ffecbc1f"
  },
  {
   "metadata": {
    "ExecuteTime": {
     "end_time": "2025-02-09T20:46:10.152128Z",
     "start_time": "2025-02-09T20:46:10.144035Z"
    }
   },
   "cell_type": "code",
   "source": [
    "drv_xs = np.array([0,  1, 2, 3])\n",
    "drv_fxs = np.array([9, 4, 2, 5]) / 20\n",
    "# drv_fxs = np.ones(len(drv_xs)) * 1/len(drv_xs)\n",
    "ev = np.sum(np.multiply(drv_fxs, drv_xs))\n",
    "var = np.sum(np.multiply((drv_xs - ev) ** 2, drv_fxs))\n",
    "sd = np.sqrt(var)\n",
    "print(f'EV: {ev} ({Fraction(ev)})\\nVariance: {var} ({Fraction(var)})\\nSD: {sd} ({Fraction(sd)})')"
   ],
   "id": "46124f4e20f0fc6e",
   "outputs": [
    {
     "name": "stdout",
     "output_type": "stream",
     "text": [
      "EV: 1.15 (2589569785738035/2251799813685248)\n",
      "Variance: 1.5274999999999999 (429953026925527/281474976710656)\n",
      "SD: 1.2359207094308275 (2783046023226077/2251799813685248)\n"
     ]
    }
   ],
   "execution_count": 27
  },
  {
   "metadata": {},
   "cell_type": "markdown",
   "source": "# Geometric PMF",
   "id": "791f7cac616ded37"
  },
  {
   "metadata": {},
   "cell_type": "code",
   "outputs": [
    {
     "name": "stdout",
     "output_type": "stream",
     "text": [
      "Summing: 1\n",
      "Summing: 2\n",
      "Summing: 3\n",
      "Summing: 4\n",
      "Probability: 0.8024691358024691\n",
      "Compliment: 0.19753086419753085\n"
     ]
    }
   ],
   "execution_count": 9,
   "source": [
    "xs = range(1,5)\n",
    "p = 1/3\n",
    "\n",
    "px = 0\n",
    "print(f'Summing: {list(xs)}')\n",
    "for x in xs:\n",
    "    px += (1 - p)**(x-1)*p\n",
    "print(f'Probability: {round(px, 4)}')\n",
    "print(f'Compliment: {round(1-px, 4)}')"
   ],
   "id": "da2f1de66f05fd0e"
  },
  {
   "metadata": {},
   "cell_type": "markdown",
   "source": "# Negative Binomial PMF",
   "id": "a3becc939ceb29a4"
  },
  {
   "metadata": {
    "ExecuteTime": {
     "end_time": "2025-02-09T21:43:36.419312Z",
     "start_time": "2025-02-09T21:43:36.412183Z"
    }
   },
   "cell_type": "code",
   "source": [
    "xs = range(0, 28)\n",
    "# xs = [20]\n",
    "r = 25\n",
    "p = 0.73\n",
    "\n",
    "px = 0\n",
    "print(f'Summing: {list(xs)}')\n",
    "for x in xs:\n",
    "    px += comb(x-1, r-1) * (1 - p)**(x-r) * p ** r\n",
    "print(f'Probability: {round(px, 4)}')\n",
    "print(f'Compliment: {round(1-px, 4)}')"
   ],
   "id": "f498e7261416a18d",
   "outputs": [
    {
     "name": "stdout",
     "output_type": "stream",
     "text": [
      "Summing: [0, 1, 2, 3, 4, 5, 6, 7, 8, 9, 10, 11, 12, 13, 14, 15, 16, 17, 18, 19, 20, 21, 22, 23, 24, 25, 26, 27]\n",
      "Probability: 0.012\n",
      "Compliment: 0.988\n"
     ]
    }
   ],
   "execution_count": 44
  },
  {
   "metadata": {},
   "cell_type": "code",
   "outputs": [],
   "execution_count": null,
   "source": "",
   "id": "8a3e4c4520932b1a"
  }
 ],
 "metadata": {
  "kernelspec": {
   "display_name": "Python 3",
   "language": "python",
   "name": "python3"
  },
  "language_info": {
   "codemirror_mode": {
    "name": "ipython",
    "version": 2
   },
   "file_extension": ".py",
   "mimetype": "text/x-python",
   "name": "python",
   "nbconvert_exporter": "python",
   "pygments_lexer": "ipython2",
   "version": "2.7.6"
  }
 },
 "nbformat": 4,
 "nbformat_minor": 5
}
