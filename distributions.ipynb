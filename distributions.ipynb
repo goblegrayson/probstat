{
 "cells": [
  {
   "metadata": {
    "ExecuteTime": {
     "end_time": "2025-02-13T03:53:04.263635Z",
     "start_time": "2025-02-13T03:53:03.496158Z"
    }
   },
   "cell_type": "code",
   "source": [
    "import numpy as np\n",
    "from scipy.special import comb, factorial\n",
    "from fractions import Fraction"
   ],
   "id": "bda02d9033f32699",
   "outputs": [],
   "execution_count": 2
  },
  {
   "metadata": {},
   "cell_type": "markdown",
   "source": "# Variance of DRV",
   "id": "221cd6d3ffecbc1f"
  },
  {
   "metadata": {
    "ExecuteTime": {
     "end_time": "2025-02-09T20:46:10.152128Z",
     "start_time": "2025-02-09T20:46:10.144035Z"
    }
   },
   "cell_type": "code",
   "source": [
    "drv_xs = np.array([0,  1, 2, 3])\n",
    "drv_fxs = np.array([9, 4, 2, 5]) / 20\n",
    "# drv_fxs = np.ones(len(drv_xs)) * 1/len(drv_xs)\n",
    "ev = np.sum(np.multiply(drv_fxs, drv_xs))\n",
    "var = np.sum(np.multiply((drv_xs - ev) ** 2, drv_fxs))\n",
    "sd = np.sqrt(var)\n",
    "print(f'EV: {ev} ({Fraction(ev)})\\nVariance: {var} ({Fraction(var)})\\nSD: {sd} ({Fraction(sd)})')"
   ],
   "id": "46124f4e20f0fc6e",
   "outputs": [
    {
     "name": "stdout",
     "output_type": "stream",
     "text": [
      "EV: 1.15 (2589569785738035/2251799813685248)\n",
      "Variance: 1.5274999999999999 (429953026925527/281474976710656)\n",
      "SD: 1.2359207094308275 (2783046023226077/2251799813685248)\n"
     ]
    }
   ],
   "execution_count": 27
  },
  {
   "metadata": {},
   "cell_type": "markdown",
   "source": "# Geometric PMF",
   "id": "791f7cac616ded37"
  },
  {
   "metadata": {
    "ExecuteTime": {
     "end_time": "2025-02-13T04:09:40.067404Z",
     "start_time": "2025-02-13T04:09:40.060418Z"
    }
   },
   "cell_type": "code",
   "source": [
    "xs = range(2, 6)\n",
    "# xs = [5]\n",
    "p = 0.5\n",
    "\n",
    "px = 0\n",
    "print(f'Summing: {list(xs)}')\n",
    "for x in xs:\n",
    "    px += (1 - p)**(x-1)*p\n",
    "print(f'Probability: {round(px, 4)}')\n",
    "print(f'Compliment: {round(1-px, 4)}')"
   ],
   "id": "da2f1de66f05fd0e",
   "outputs": [
    {
     "name": "stdout",
     "output_type": "stream",
     "text": [
      "Summing: [2, 3, 4, 5]\n",
      "Probability: 0.4688\n",
      "Compliment: 0.5312\n"
     ]
    }
   ],
   "execution_count": 8
  },
  {
   "metadata": {},
   "cell_type": "markdown",
   "source": "# Negative Binomial PMF",
   "id": "a3becc939ceb29a4"
  },
  {
   "metadata": {
    "ExecuteTime": {
     "end_time": "2025-02-09T21:43:36.419312Z",
     "start_time": "2025-02-09T21:43:36.412183Z"
    }
   },
   "cell_type": "code",
   "source": [
    "xs = range(0, 28)\n",
    "# xs = [20]\n",
    "r = 25\n",
    "p = 0.73\n",
    "\n",
    "px = 0\n",
    "print(f'Summing: {list(xs)}')\n",
    "for x in xs:\n",
    "    px += comb(x-1, r-1) * (1 - p)**(x-r) * p ** r\n",
    "print(f'Probability: {round(px, 4)}')\n",
    "print(f'Compliment: {round(1-px, 4)}')"
   ],
   "id": "f498e7261416a18d",
   "outputs": [
    {
     "name": "stdout",
     "output_type": "stream",
     "text": [
      "Summing: [0, 1, 2, 3, 4, 5, 6, 7, 8, 9, 10, 11, 12, 13, 14, 15, 16, 17, 18, 19, 20, 21, 22, 23, 24, 25, 26, 27]\n",
      "Probability: 0.012\n",
      "Compliment: 0.988\n"
     ]
    }
   ],
   "execution_count": 44
  },
  {
   "metadata": {},
   "cell_type": "markdown",
   "source": "# Poisson PMF",
   "id": "5bc1bf9f9bacb5fc"
  },
  {
   "metadata": {
    "ExecuteTime": {
     "end_time": "2025-02-13T04:06:36.780200Z",
     "start_time": "2025-02-13T04:06:36.772502Z"
    }
   },
   "cell_type": "code",
   "source": [
    "# xs = range(0, 6)\n",
    "xs = [7]\n",
    "gamma = 5\n",
    "\n",
    "px = 0\n",
    "print(f'Summing: {list(xs)}')\n",
    "for x in xs:\n",
    "    px += (gamma ** x) * np.exp(-gamma) / factorial(x)\n",
    "print(f'Probability: {round(px, 4)}')\n",
    "print(f'Compliment: {round(1-px, 4)}')"
   ],
   "id": "8a3e4c4520932b1a",
   "outputs": [
    {
     "name": "stdout",
     "output_type": "stream",
     "text": [
      "Summing: [7]\n",
      "Probability: 0.1044\n",
      "Compliment: 0.8956\n"
     ]
    }
   ],
   "execution_count": 6
  },
  {
   "metadata": {},
   "cell_type": "code",
   "outputs": [],
   "execution_count": null,
   "source": "",
   "id": "f565ba054d568701"
  }
 ],
 "metadata": {
  "kernelspec": {
   "display_name": "Python 3",
   "language": "python",
   "name": "python3"
  },
  "language_info": {
   "codemirror_mode": {
    "name": "ipython",
    "version": 2
   },
   "file_extension": ".py",
   "mimetype": "text/x-python",
   "name": "python",
   "nbconvert_exporter": "python",
   "pygments_lexer": "ipython2",
   "version": "2.7.6"
  }
 },
 "nbformat": 4,
 "nbformat_minor": 5
}
